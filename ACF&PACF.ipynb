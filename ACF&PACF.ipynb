#{python}
# This Python 3 environment comes with many helpful analytics libraries installed
# It is defined by the kaggle/python Docker image: https://github.com/kaggle/docker-python
# For example, here's several helpful packages to load

import numpy as np # linear algebra
import pandas as pd # data processing, CSV file I/O (e.g. pd.read_csv)
import matplotlib.pyplot as plt
from statsmodels.graphics.tsaplots import plot_acf, plot_pacf
from statsmodels.tsa.stattools import acf, pacf
import statsmodels.api as sm
from statsmodels.tsa.statespace.sarimax import SARIMAX
import warnings
warnings.filterwarnings("ignore")


# Input data files are available in the read-only "../input/" directory
# For example, running this (by clicking run or pressing Shift+Enter) will list all files under the input directory

import os
for dirname, _, filenames in os.walk('/kaggle/input'):
    for filename in filenames:
        print(os.path.join(dirname, filename))

# You can write up to 20GB to the current directory (/kaggle/working/) that gets preserved as output when you create a version using "Save & Run All" 
# You can also write temporary files to /kaggle/temp/, but they won't be saved outside of the current session

file_path = '/kaggle/input/climate-change-earth-surface-temperature-data/GlobalLandTemperaturesByCountry.csv'
df = pd.read_csv(file_path)

df['dt'] = pd.to_datetime(df['dt'])

# Filter for China and the time period from 2003 to 2013
filtered_df = df[(df['Country'] == 'China') & 
                 (df['dt'] >= '2003-01-01') & 
                 (df['dt'] <= '2013-03-01')]
forecast_test = df[(df['Country'] == 'China') & 
                 (df['dt'] >= '2003-04-01') & 
                 (df['dt'] <= '2013-08-01')]

# Set the date as the index for plotting
filtered_df.set_index('dt', inplace=True)
print(filtered_df)
# Plotting
plt.figure(figsize=(12, 6))
plt.plot(filtered_df.index, filtered_df['AverageTemperature'], label='Average Temperature', color='blue')
plt.title('Average Temperature in China (2003 - 2013)')
plt.xlabel('Year')
plt.ylabel('Average Temperature (°C)')
plt.xticks(rotation=45)
plt.grid()
plt.legend()
plt.tight_layout()

# Show the plot
plt.show()


# Handle missing values
filtered_df = filtered_df.dropna(subset=['AverageTemperature'])

# Calculate ACF and PACF
n_lags = 40
acf_values = acf(filtered_df['AverageTemperature'], nlags=n_lags)
pacf_values = pacf(filtered_df['AverageTemperature'], nlags=n_lags)

# Confidence intervals
alpha = 0.05
conf_int = 1.96 / np.sqrt(len(filtered_df['AverageTemperature']))  # Approximation for large samples
acf_ci = np.array([conf_int] * (n_lags + 1))
pacf_ci = np.array([conf_int] * (n_lags + 1))

# Create DataFrames for ACF and PACF
acf_table = pd.DataFrame({
    'Lag': np.arange(n_lags + 1),
    'ACF': acf_values,
    'CI Lower':  acf_ci,
    'CI Upper':  acf_ci
})

pacf_table = pd.DataFrame({
    'Lag': np.arange(n_lags + 1),
    'PACF': pacf_values,
    'CI Lower': pacf_ci,
    'CI Upper': pacf_ci
})

# Display the tables
print("ACF Table:")
print(acf_table)

print("\nPACF Table:")
print(pacf_table)

# Optional: Plot ACF and PACF
plt.figure(figsize=(12, 6))

# ACF Plot
plt.subplot(1, 2, 1)
sm.graphics.tsa.plot_acf(filtered_df['AverageTemperature'], lags=n_lags, ax=plt.gca(), alpha=0.05)
plt.title('Autocorrelation Function (ACF)')

# PACF Plot
plt.subplot(1, 2, 2)
sm.graphics.tsa.plot_pacf(filtered_df['AverageTemperature'], lags=n_lags, ax=plt.gca(), alpha=0.05)
plt.title('Partial Autocorrelation Function (PACF)')

plt.tight_layout()
plt.show()
